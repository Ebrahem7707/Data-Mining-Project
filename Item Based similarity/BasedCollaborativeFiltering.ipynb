{
 "cells": [
  {
   "cell_type": "code",
   "execution_count": 1,
   "id": "95afa8b7",
   "metadata": {
    "execution": {
     "iopub.execute_input": "2021-12-30T02:52:41.373781Z",
     "iopub.status.busy": "2021-12-30T02:52:41.372589Z",
     "iopub.status.idle": "2021-12-30T02:52:42.501561Z",
     "shell.execute_reply": "2021-12-30T02:52:42.500815Z",
     "shell.execute_reply.started": "2021-12-30T02:51:56.990213Z"
    },
    "papermill": {
     "duration": 1.174807,
     "end_time": "2021-12-30T02:52:42.501734",
     "exception": false,
     "start_time": "2021-12-30T02:52:41.326927",
     "status": "completed"
    },
    "tags": []
   },
   "outputs": [
    {
     "name": "stderr",
     "output_type": "stream",
     "text": [
      "c:\\Users\\EBRAHEM\\anaconda3\\Lib\\site-packages\\pandas\\core\\arrays\\masked.py:60: UserWarning: Pandas requires version '1.3.6' or newer of 'bottleneck' (version '1.3.5' currently installed).\n",
      "  from pandas.core import (\n"
     ]
    }
   ],
   "source": [
    "import pandas as pd\n",
    "import numpy as np\n",
    "import matplotlib.pyplot as plt\n",
    "import seaborn as sns\n",
    "%matplotlib inline"
   ]
  },
  {
   "cell_type": "code",
   "execution_count": 2,
   "id": "cf0078a1",
   "metadata": {
    "execution": {
     "iopub.execute_input": "2021-12-30T02:52:42.675982Z",
     "iopub.status.busy": "2021-12-30T02:52:42.675176Z",
     "iopub.status.idle": "2021-12-30T02:52:42.792393Z",
     "shell.execute_reply": "2021-12-30T02:52:42.791677Z",
     "shell.execute_reply.started": "2021-12-30T02:51:56.997514Z"
    },
    "papermill": {
     "duration": 0.166019,
     "end_time": "2021-12-30T02:52:42.792548",
     "exception": false,
     "start_time": "2021-12-30T02:52:42.626529",
     "status": "completed"
    },
    "tags": []
   },
   "outputs": [],
   "source": [
    "# 1. Load reviews dataset\n",
    "movie_titles = pd.read_csv(\"movie_titles.csv\")\n",
    "movie_ratings = pd.read_csv('movie_ratings.data', sep='\\t', names=['user_id', 'item_id', 'rating', 'date'])"
   ]
  },
  {
   "cell_type": "code",
   "execution_count": 3,
   "id": "ade23764",
   "metadata": {
    "execution": {
     "iopub.execute_input": "2021-12-30T02:52:42.883232Z",
     "iopub.status.busy": "2021-12-30T02:52:42.882569Z",
     "iopub.status.idle": "2021-12-30T02:52:42.885816Z",
     "shell.execute_reply": "2021-12-30T02:52:42.886306Z",
     "shell.execute_reply.started": "2021-12-30T02:51:57.091642Z"
    },
    "papermill": {
     "duration": 0.052777,
     "end_time": "2021-12-30T02:52:42.886492",
     "exception": false,
     "start_time": "2021-12-30T02:52:42.833715",
     "status": "completed"
    },
    "tags": []
   },
   "outputs": [
    {
     "data": {
      "text/plain": [
       "(1682, 2)"
      ]
     },
     "execution_count": 3,
     "metadata": {},
     "output_type": "execute_result"
    }
   ],
   "source": [
    "movie_titles.shape"
   ]
  },
  {
   "cell_type": "code",
   "execution_count": 4,
   "id": "d3799ddd",
   "metadata": {
    "execution": {
     "iopub.execute_input": "2021-12-30T02:52:42.972740Z",
     "iopub.status.busy": "2021-12-30T02:52:42.972012Z",
     "iopub.status.idle": "2021-12-30T02:52:42.989588Z",
     "shell.execute_reply": "2021-12-30T02:52:42.990084Z",
     "shell.execute_reply.started": "2021-12-30T02:51:57.099799Z"
    },
    "papermill": {
     "duration": 0.062449,
     "end_time": "2021-12-30T02:52:42.990270",
     "exception": false,
     "start_time": "2021-12-30T02:52:42.927821",
     "status": "completed"
    },
    "tags": []
   },
   "outputs": [
    {
     "data": {
      "text/html": [
       "<div>\n",
       "<style scoped>\n",
       "    .dataframe tbody tr th:only-of-type {\n",
       "        vertical-align: middle;\n",
       "    }\n",
       "\n",
       "    .dataframe tbody tr th {\n",
       "        vertical-align: top;\n",
       "    }\n",
       "\n",
       "    .dataframe thead th {\n",
       "        text-align: right;\n",
       "    }\n",
       "</style>\n",
       "<table border=\"1\" class=\"dataframe\">\n",
       "  <thead>\n",
       "    <tr style=\"text-align: right;\">\n",
       "      <th></th>\n",
       "      <th>item_id</th>\n",
       "      <th>title</th>\n",
       "    </tr>\n",
       "  </thead>\n",
       "  <tbody>\n",
       "    <tr>\n",
       "      <th>0</th>\n",
       "      <td>1</td>\n",
       "      <td>Toy Story (1995)</td>\n",
       "    </tr>\n",
       "    <tr>\n",
       "      <th>1</th>\n",
       "      <td>2</td>\n",
       "      <td>GoldenEye (1995)</td>\n",
       "    </tr>\n",
       "    <tr>\n",
       "      <th>2</th>\n",
       "      <td>3</td>\n",
       "      <td>Four Rooms (1995)</td>\n",
       "    </tr>\n",
       "    <tr>\n",
       "      <th>3</th>\n",
       "      <td>4</td>\n",
       "      <td>Get Shorty (1995)</td>\n",
       "    </tr>\n",
       "    <tr>\n",
       "      <th>4</th>\n",
       "      <td>5</td>\n",
       "      <td>Copycat (1995)</td>\n",
       "    </tr>\n",
       "    <tr>\n",
       "      <th>5</th>\n",
       "      <td>6</td>\n",
       "      <td>Shanghai Triad (Yao a yao yao dao waipo qiao) ...</td>\n",
       "    </tr>\n",
       "    <tr>\n",
       "      <th>6</th>\n",
       "      <td>7</td>\n",
       "      <td>Twelve Monkeys (1995)</td>\n",
       "    </tr>\n",
       "    <tr>\n",
       "      <th>7</th>\n",
       "      <td>8</td>\n",
       "      <td>Babe (1995)</td>\n",
       "    </tr>\n",
       "    <tr>\n",
       "      <th>8</th>\n",
       "      <td>9</td>\n",
       "      <td>Dead Man Walking (1995)</td>\n",
       "    </tr>\n",
       "    <tr>\n",
       "      <th>9</th>\n",
       "      <td>10</td>\n",
       "      <td>Richard III (1995)</td>\n",
       "    </tr>\n",
       "  </tbody>\n",
       "</table>\n",
       "</div>"
      ],
      "text/plain": [
       "   item_id                                              title\n",
       "0        1                                   Toy Story (1995)\n",
       "1        2                                   GoldenEye (1995)\n",
       "2        3                                  Four Rooms (1995)\n",
       "3        4                                  Get Shorty (1995)\n",
       "4        5                                     Copycat (1995)\n",
       "5        6  Shanghai Triad (Yao a yao yao dao waipo qiao) ...\n",
       "6        7                              Twelve Monkeys (1995)\n",
       "7        8                                        Babe (1995)\n",
       "8        9                            Dead Man Walking (1995)\n",
       "9       10                                 Richard III (1995)"
      ]
     },
     "execution_count": 4,
     "metadata": {},
     "output_type": "execute_result"
    }
   ],
   "source": [
    "movie_titles.head(10)"
   ]
  },
  {
   "cell_type": "code",
   "execution_count": 5,
   "id": "ed67605b",
   "metadata": {
    "execution": {
     "iopub.execute_input": "2021-12-30T02:52:43.078750Z",
     "iopub.status.busy": "2021-12-30T02:52:43.078067Z",
     "iopub.status.idle": "2021-12-30T02:52:43.083657Z",
     "shell.execute_reply": "2021-12-30T02:52:43.084119Z",
     "shell.execute_reply.started": "2021-12-30T02:51:57.125489Z"
    },
    "papermill": {
     "duration": 0.051419,
     "end_time": "2021-12-30T02:52:43.084292",
     "exception": false,
     "start_time": "2021-12-30T02:52:43.032873",
     "status": "completed"
    },
    "tags": []
   },
   "outputs": [
    {
     "data": {
      "text/plain": [
       "(100003, 4)"
      ]
     },
     "execution_count": 5,
     "metadata": {},
     "output_type": "execute_result"
    }
   ],
   "source": [
    "movie_ratings.shape"
   ]
  },
  {
   "cell_type": "code",
   "execution_count": 6,
   "id": "f245a239",
   "metadata": {
    "execution": {
     "iopub.execute_input": "2021-12-30T02:52:43.179774Z",
     "iopub.status.busy": "2021-12-30T02:52:43.179023Z",
     "iopub.status.idle": "2021-12-30T02:52:43.181885Z",
     "shell.execute_reply": "2021-12-30T02:52:43.182408Z",
     "shell.execute_reply.started": "2021-12-30T02:51:57.132890Z"
    },
    "papermill": {
     "duration": 0.055618,
     "end_time": "2021-12-30T02:52:43.182584",
     "exception": false,
     "start_time": "2021-12-30T02:52:43.126966",
     "status": "completed"
    },
    "scrolled": true,
    "tags": []
   },
   "outputs": [
    {
     "data": {
      "text/html": [
       "<div>\n",
       "<style scoped>\n",
       "    .dataframe tbody tr th:only-of-type {\n",
       "        vertical-align: middle;\n",
       "    }\n",
       "\n",
       "    .dataframe tbody tr th {\n",
       "        vertical-align: top;\n",
       "    }\n",
       "\n",
       "    .dataframe thead th {\n",
       "        text-align: right;\n",
       "    }\n",
       "</style>\n",
       "<table border=\"1\" class=\"dataframe\">\n",
       "  <thead>\n",
       "    <tr style=\"text-align: right;\">\n",
       "      <th></th>\n",
       "      <th>user_id</th>\n",
       "      <th>item_id</th>\n",
       "      <th>rating</th>\n",
       "      <th>date</th>\n",
       "    </tr>\n",
       "  </thead>\n",
       "  <tbody>\n",
       "    <tr>\n",
       "      <th>99998</th>\n",
       "      <td>880</td>\n",
       "      <td>476</td>\n",
       "      <td>3</td>\n",
       "      <td>880175444</td>\n",
       "    </tr>\n",
       "    <tr>\n",
       "      <th>99999</th>\n",
       "      <td>716</td>\n",
       "      <td>204</td>\n",
       "      <td>5</td>\n",
       "      <td>879795543</td>\n",
       "    </tr>\n",
       "    <tr>\n",
       "      <th>100000</th>\n",
       "      <td>276</td>\n",
       "      <td>1090</td>\n",
       "      <td>1</td>\n",
       "      <td>874795795</td>\n",
       "    </tr>\n",
       "    <tr>\n",
       "      <th>100001</th>\n",
       "      <td>13</td>\n",
       "      <td>225</td>\n",
       "      <td>2</td>\n",
       "      <td>882399156</td>\n",
       "    </tr>\n",
       "    <tr>\n",
       "      <th>100002</th>\n",
       "      <td>12</td>\n",
       "      <td>203</td>\n",
       "      <td>3</td>\n",
       "      <td>879959583</td>\n",
       "    </tr>\n",
       "  </tbody>\n",
       "</table>\n",
       "</div>"
      ],
      "text/plain": [
       "        user_id  item_id  rating       date\n",
       "99998       880      476       3  880175444\n",
       "99999       716      204       5  879795543\n",
       "100000      276     1090       1  874795795\n",
       "100001       13      225       2  882399156\n",
       "100002       12      203       3  879959583"
      ]
     },
     "execution_count": 6,
     "metadata": {},
     "output_type": "execute_result"
    }
   ],
   "source": [
    "movie_ratings.tail()"
   ]
  },
  {
   "cell_type": "code",
   "execution_count": 7,
   "id": "343fb0ed",
   "metadata": {
    "execution": {
     "iopub.execute_input": "2021-12-30T02:52:43.283519Z",
     "iopub.status.busy": "2021-12-30T02:52:43.282547Z",
     "iopub.status.idle": "2021-12-30T02:52:43.285631Z",
     "shell.execute_reply": "2021-12-30T02:52:43.285022Z",
     "shell.execute_reply.started": "2021-12-30T02:51:57.152443Z"
    },
    "papermill": {
     "duration": 0.060968,
     "end_time": "2021-12-30T02:52:43.285807",
     "exception": false,
     "start_time": "2021-12-30T02:52:43.224839",
     "status": "completed"
    },
    "tags": []
   },
   "outputs": [],
   "source": [
    "#drop date column since its not needed\n",
    "movie_ratings.drop(['date'], axis = 1, inplace = True)"
   ]
  },
  {
   "cell_type": "code",
   "execution_count": 8,
   "id": "c9f00663",
   "metadata": {
    "execution": {
     "iopub.execute_input": "2021-12-30T02:52:43.385990Z",
     "iopub.status.busy": "2021-12-30T02:52:43.384889Z",
     "iopub.status.idle": "2021-12-30T02:52:43.389501Z",
     "shell.execute_reply": "2021-12-30T02:52:43.388905Z",
     "shell.execute_reply.started": "2021-12-30T02:51:57.163534Z"
    },
    "papermill": {
     "duration": 0.060486,
     "end_time": "2021-12-30T02:52:43.389665",
     "exception": false,
     "start_time": "2021-12-30T02:52:43.329179",
     "status": "completed"
    },
    "tags": []
   },
   "outputs": [
    {
     "data": {
      "text/html": [
       "<div>\n",
       "<style scoped>\n",
       "    .dataframe tbody tr th:only-of-type {\n",
       "        vertical-align: middle;\n",
       "    }\n",
       "\n",
       "    .dataframe tbody tr th {\n",
       "        vertical-align: top;\n",
       "    }\n",
       "\n",
       "    .dataframe thead th {\n",
       "        text-align: right;\n",
       "    }\n",
       "</style>\n",
       "<table border=\"1\" class=\"dataframe\">\n",
       "  <thead>\n",
       "    <tr style=\"text-align: right;\">\n",
       "      <th></th>\n",
       "      <th>user_id</th>\n",
       "      <th>item_id</th>\n",
       "      <th>rating</th>\n",
       "    </tr>\n",
       "  </thead>\n",
       "  <tbody>\n",
       "    <tr>\n",
       "      <th>0</th>\n",
       "      <td>0</td>\n",
       "      <td>50</td>\n",
       "      <td>5</td>\n",
       "    </tr>\n",
       "    <tr>\n",
       "      <th>1</th>\n",
       "      <td>0</td>\n",
       "      <td>172</td>\n",
       "      <td>5</td>\n",
       "    </tr>\n",
       "    <tr>\n",
       "      <th>2</th>\n",
       "      <td>0</td>\n",
       "      <td>133</td>\n",
       "      <td>1</td>\n",
       "    </tr>\n",
       "    <tr>\n",
       "      <th>3</th>\n",
       "      <td>196</td>\n",
       "      <td>242</td>\n",
       "      <td>3</td>\n",
       "    </tr>\n",
       "    <tr>\n",
       "      <th>4</th>\n",
       "      <td>186</td>\n",
       "      <td>302</td>\n",
       "      <td>3</td>\n",
       "    </tr>\n",
       "    <tr>\n",
       "      <th>...</th>\n",
       "      <td>...</td>\n",
       "      <td>...</td>\n",
       "      <td>...</td>\n",
       "    </tr>\n",
       "    <tr>\n",
       "      <th>99998</th>\n",
       "      <td>880</td>\n",
       "      <td>476</td>\n",
       "      <td>3</td>\n",
       "    </tr>\n",
       "    <tr>\n",
       "      <th>99999</th>\n",
       "      <td>716</td>\n",
       "      <td>204</td>\n",
       "      <td>5</td>\n",
       "    </tr>\n",
       "    <tr>\n",
       "      <th>100000</th>\n",
       "      <td>276</td>\n",
       "      <td>1090</td>\n",
       "      <td>1</td>\n",
       "    </tr>\n",
       "    <tr>\n",
       "      <th>100001</th>\n",
       "      <td>13</td>\n",
       "      <td>225</td>\n",
       "      <td>2</td>\n",
       "    </tr>\n",
       "    <tr>\n",
       "      <th>100002</th>\n",
       "      <td>12</td>\n",
       "      <td>203</td>\n",
       "      <td>3</td>\n",
       "    </tr>\n",
       "  </tbody>\n",
       "</table>\n",
       "<p>100003 rows × 3 columns</p>\n",
       "</div>"
      ],
      "text/plain": [
       "        user_id  item_id  rating\n",
       "0             0       50       5\n",
       "1             0      172       5\n",
       "2             0      133       1\n",
       "3           196      242       3\n",
       "4           186      302       3\n",
       "...         ...      ...     ...\n",
       "99998       880      476       3\n",
       "99999       716      204       5\n",
       "100000      276     1090       1\n",
       "100001       13      225       2\n",
       "100002       12      203       3\n",
       "\n",
       "[100003 rows x 3 columns]"
      ]
     },
     "execution_count": 8,
     "metadata": {},
     "output_type": "execute_result"
    }
   ],
   "source": [
    "movie_ratings"
   ]
  },
  {
   "cell_type": "code",
   "execution_count": 9,
   "id": "c8420070",
   "metadata": {
    "execution": {
     "iopub.execute_input": "2021-12-30T02:52:43.492270Z",
     "iopub.status.busy": "2021-12-30T02:52:43.491491Z",
     "iopub.status.idle": "2021-12-30T02:52:43.520296Z",
     "shell.execute_reply": "2021-12-30T02:52:43.519673Z",
     "shell.execute_reply.started": "2021-12-30T02:51:57.183158Z"
    },
    "papermill": {
     "duration": 0.08688,
     "end_time": "2021-12-30T02:52:43.520474",
     "exception": false,
     "start_time": "2021-12-30T02:52:43.433594",
     "status": "completed"
    },
    "tags": []
   },
   "outputs": [
    {
     "data": {
      "text/html": [
       "<div>\n",
       "<style scoped>\n",
       "    .dataframe tbody tr th:only-of-type {\n",
       "        vertical-align: middle;\n",
       "    }\n",
       "\n",
       "    .dataframe tbody tr th {\n",
       "        vertical-align: top;\n",
       "    }\n",
       "\n",
       "    .dataframe thead th {\n",
       "        text-align: right;\n",
       "    }\n",
       "</style>\n",
       "<table border=\"1\" class=\"dataframe\">\n",
       "  <thead>\n",
       "    <tr style=\"text-align: right;\">\n",
       "      <th></th>\n",
       "      <th>user_id</th>\n",
       "      <th>item_id</th>\n",
       "      <th>rating</th>\n",
       "    </tr>\n",
       "  </thead>\n",
       "  <tbody>\n",
       "    <tr>\n",
       "      <th>count</th>\n",
       "      <td>100003.000000</td>\n",
       "      <td>100003.000000</td>\n",
       "      <td>100003.000000</td>\n",
       "    </tr>\n",
       "    <tr>\n",
       "      <th>mean</th>\n",
       "      <td>462.470876</td>\n",
       "      <td>425.520914</td>\n",
       "      <td>3.529864</td>\n",
       "    </tr>\n",
       "    <tr>\n",
       "      <th>std</th>\n",
       "      <td>266.622454</td>\n",
       "      <td>330.797791</td>\n",
       "      <td>1.125704</td>\n",
       "    </tr>\n",
       "    <tr>\n",
       "      <th>min</th>\n",
       "      <td>0.000000</td>\n",
       "      <td>1.000000</td>\n",
       "      <td>1.000000</td>\n",
       "    </tr>\n",
       "    <tr>\n",
       "      <th>25%</th>\n",
       "      <td>254.000000</td>\n",
       "      <td>175.000000</td>\n",
       "      <td>3.000000</td>\n",
       "    </tr>\n",
       "    <tr>\n",
       "      <th>50%</th>\n",
       "      <td>447.000000</td>\n",
       "      <td>322.000000</td>\n",
       "      <td>4.000000</td>\n",
       "    </tr>\n",
       "    <tr>\n",
       "      <th>75%</th>\n",
       "      <td>682.000000</td>\n",
       "      <td>631.000000</td>\n",
       "      <td>4.000000</td>\n",
       "    </tr>\n",
       "    <tr>\n",
       "      <th>max</th>\n",
       "      <td>943.000000</td>\n",
       "      <td>1682.000000</td>\n",
       "      <td>5.000000</td>\n",
       "    </tr>\n",
       "  </tbody>\n",
       "</table>\n",
       "</div>"
      ],
      "text/plain": [
       "             user_id        item_id         rating\n",
       "count  100003.000000  100003.000000  100003.000000\n",
       "mean      462.470876     425.520914       3.529864\n",
       "std       266.622454     330.797791       1.125704\n",
       "min         0.000000       1.000000       1.000000\n",
       "25%       254.000000     175.000000       3.000000\n",
       "50%       447.000000     322.000000       4.000000\n",
       "75%       682.000000     631.000000       4.000000\n",
       "max       943.000000    1682.000000       5.000000"
      ]
     },
     "execution_count": 9,
     "metadata": {},
     "output_type": "execute_result"
    }
   ],
   "source": [
    "movie_ratings.describe()"
   ]
  },
  {
   "cell_type": "code",
   "execution_count": 10,
   "id": "79d58aff",
   "metadata": {
    "execution": {
     "iopub.execute_input": "2021-12-30T02:52:43.614416Z",
     "iopub.status.busy": "2021-12-30T02:52:43.613726Z",
     "iopub.status.idle": "2021-12-30T02:52:43.626822Z",
     "shell.execute_reply": "2021-12-30T02:52:43.627458Z",
     "shell.execute_reply.started": "2021-12-30T02:51:57.220404Z"
    },
    "papermill": {
     "duration": 0.06267,
     "end_time": "2021-12-30T02:52:43.627631",
     "exception": false,
     "start_time": "2021-12-30T02:52:43.564961",
     "status": "completed"
    },
    "scrolled": true,
    "tags": []
   },
   "outputs": [
    {
     "name": "stdout",
     "output_type": "stream",
     "text": [
      "<class 'pandas.core.frame.DataFrame'>\n",
      "RangeIndex: 100003 entries, 0 to 100002\n",
      "Data columns (total 3 columns):\n",
      " #   Column   Non-Null Count   Dtype\n",
      "---  ------   --------------   -----\n",
      " 0   user_id  100003 non-null  int64\n",
      " 1   item_id  100003 non-null  int64\n",
      " 2   rating   100003 non-null  int64\n",
      "dtypes: int64(3)\n",
      "memory usage: 2.3 MB\n"
     ]
    }
   ],
   "source": [
    "movie_ratings.info()"
   ]
  },
  {
   "cell_type": "code",
   "execution_count": 11,
   "id": "32589e6c",
   "metadata": {
    "execution": {
     "iopub.execute_input": "2021-12-30T02:52:43.720459Z",
     "iopub.status.busy": "2021-12-30T02:52:43.719780Z",
     "iopub.status.idle": "2021-12-30T02:52:43.743240Z",
     "shell.execute_reply": "2021-12-30T02:52:43.743796Z",
     "shell.execute_reply.started": "2021-12-30T02:51:57.236900Z"
    },
    "papermill": {
     "duration": 0.071296,
     "end_time": "2021-12-30T02:52:43.743972",
     "exception": false,
     "start_time": "2021-12-30T02:52:43.672676",
     "status": "completed"
    },
    "tags": []
   },
   "outputs": [],
   "source": [
    "#merge both datasets\n",
    "ratings = pd.merge(movie_ratings, movie_titles, on = 'item_id') "
   ]
  },
  {
   "cell_type": "code",
   "execution_count": 12,
   "id": "019ac725",
   "metadata": {
    "execution": {
     "iopub.execute_input": "2021-12-30T02:52:43.836304Z",
     "iopub.status.busy": "2021-12-30T02:52:43.835699Z",
     "iopub.status.idle": "2021-12-30T02:52:43.849186Z",
     "shell.execute_reply": "2021-12-30T02:52:43.848615Z",
     "shell.execute_reply.started": "2021-12-30T02:51:57.265724Z"
    },
    "papermill": {
     "duration": 0.061304,
     "end_time": "2021-12-30T02:52:43.849324",
     "exception": false,
     "start_time": "2021-12-30T02:52:43.788020",
     "status": "completed"
    },
    "tags": []
   },
   "outputs": [
    {
     "data": {
      "text/html": [
       "<div>\n",
       "<style scoped>\n",
       "    .dataframe tbody tr th:only-of-type {\n",
       "        vertical-align: middle;\n",
       "    }\n",
       "\n",
       "    .dataframe tbody tr th {\n",
       "        vertical-align: top;\n",
       "    }\n",
       "\n",
       "    .dataframe thead th {\n",
       "        text-align: right;\n",
       "    }\n",
       "</style>\n",
       "<table border=\"1\" class=\"dataframe\">\n",
       "  <thead>\n",
       "    <tr style=\"text-align: right;\">\n",
       "      <th></th>\n",
       "      <th>user_id</th>\n",
       "      <th>item_id</th>\n",
       "      <th>rating</th>\n",
       "      <th>title</th>\n",
       "    </tr>\n",
       "  </thead>\n",
       "  <tbody>\n",
       "    <tr>\n",
       "      <th>0</th>\n",
       "      <td>0</td>\n",
       "      <td>50</td>\n",
       "      <td>5</td>\n",
       "      <td>Star Wars (1977)</td>\n",
       "    </tr>\n",
       "    <tr>\n",
       "      <th>1</th>\n",
       "      <td>0</td>\n",
       "      <td>172</td>\n",
       "      <td>5</td>\n",
       "      <td>Empire Strikes Back, The (1980)</td>\n",
       "    </tr>\n",
       "    <tr>\n",
       "      <th>2</th>\n",
       "      <td>0</td>\n",
       "      <td>133</td>\n",
       "      <td>1</td>\n",
       "      <td>Gone with the Wind (1939)</td>\n",
       "    </tr>\n",
       "    <tr>\n",
       "      <th>3</th>\n",
       "      <td>196</td>\n",
       "      <td>242</td>\n",
       "      <td>3</td>\n",
       "      <td>Kolya (1996)</td>\n",
       "    </tr>\n",
       "    <tr>\n",
       "      <th>4</th>\n",
       "      <td>186</td>\n",
       "      <td>302</td>\n",
       "      <td>3</td>\n",
       "      <td>L.A. Confidential (1997)</td>\n",
       "    </tr>\n",
       "    <tr>\n",
       "      <th>...</th>\n",
       "      <td>...</td>\n",
       "      <td>...</td>\n",
       "      <td>...</td>\n",
       "      <td>...</td>\n",
       "    </tr>\n",
       "    <tr>\n",
       "      <th>99998</th>\n",
       "      <td>880</td>\n",
       "      <td>476</td>\n",
       "      <td>3</td>\n",
       "      <td>First Wives Club, The (1996)</td>\n",
       "    </tr>\n",
       "    <tr>\n",
       "      <th>99999</th>\n",
       "      <td>716</td>\n",
       "      <td>204</td>\n",
       "      <td>5</td>\n",
       "      <td>Back to the Future (1985)</td>\n",
       "    </tr>\n",
       "    <tr>\n",
       "      <th>100000</th>\n",
       "      <td>276</td>\n",
       "      <td>1090</td>\n",
       "      <td>1</td>\n",
       "      <td>Sliver (1993)</td>\n",
       "    </tr>\n",
       "    <tr>\n",
       "      <th>100001</th>\n",
       "      <td>13</td>\n",
       "      <td>225</td>\n",
       "      <td>2</td>\n",
       "      <td>101 Dalmatians (1996)</td>\n",
       "    </tr>\n",
       "    <tr>\n",
       "      <th>100002</th>\n",
       "      <td>12</td>\n",
       "      <td>203</td>\n",
       "      <td>3</td>\n",
       "      <td>Unforgiven (1992)</td>\n",
       "    </tr>\n",
       "  </tbody>\n",
       "</table>\n",
       "<p>100003 rows × 4 columns</p>\n",
       "</div>"
      ],
      "text/plain": [
       "        user_id  item_id  rating                            title\n",
       "0             0       50       5                 Star Wars (1977)\n",
       "1             0      172       5  Empire Strikes Back, The (1980)\n",
       "2             0      133       1        Gone with the Wind (1939)\n",
       "3           196      242       3                     Kolya (1996)\n",
       "4           186      302       3         L.A. Confidential (1997)\n",
       "...         ...      ...     ...                              ...\n",
       "99998       880      476       3     First Wives Club, The (1996)\n",
       "99999       716      204       5        Back to the Future (1985)\n",
       "100000      276     1090       1                    Sliver (1993)\n",
       "100001       13      225       2            101 Dalmatians (1996)\n",
       "100002       12      203       3                Unforgiven (1992)\n",
       "\n",
       "[100003 rows x 4 columns]"
      ]
     },
     "execution_count": 12,
     "metadata": {},
     "output_type": "execute_result"
    }
   ],
   "source": [
    "ratings"
   ]
  },
  {
   "cell_type": "code",
   "execution_count": 13,
   "id": "2f779eaf",
   "metadata": {
    "execution": {
     "iopub.execute_input": "2021-12-30T02:52:43.944232Z",
     "iopub.status.busy": "2021-12-30T02:52:43.943601Z",
     "iopub.status.idle": "2021-12-30T02:52:43.947458Z",
     "shell.execute_reply": "2021-12-30T02:52:43.947927Z",
     "shell.execute_reply.started": "2021-12-30T02:51:57.281052Z"
    },
    "papermill": {
     "duration": 0.054239,
     "end_time": "2021-12-30T02:52:43.948098",
     "exception": false,
     "start_time": "2021-12-30T02:52:43.893859",
     "status": "completed"
    },
    "tags": []
   },
   "outputs": [
    {
     "data": {
      "text/plain": [
       "(100003, 4)"
      ]
     },
     "execution_count": 13,
     "metadata": {},
     "output_type": "execute_result"
    }
   ],
   "source": [
    "ratings.shape"
   ]
  },
  {
   "cell_type": "code",
   "execution_count": 14,
   "id": "b21b2e9a",
   "metadata": {
    "execution": {
     "iopub.execute_input": "2021-12-30T02:52:44.145553Z",
     "iopub.status.busy": "2021-12-30T02:52:44.144616Z",
     "iopub.status.idle": "2021-12-30T02:52:46.638074Z",
     "shell.execute_reply": "2021-12-30T02:52:46.638644Z",
     "shell.execute_reply.started": "2021-12-30T02:51:57.293225Z"
    },
    "papermill": {
     "duration": 2.552533,
     "end_time": "2021-12-30T02:52:46.638842",
     "exception": false,
     "start_time": "2021-12-30T02:52:44.086309",
     "status": "completed"
    },
    "tags": []
   },
   "outputs": [
    {
     "data": {
      "text/html": [
       "<div>\n",
       "<style scoped>\n",
       "    .dataframe tbody tr th:only-of-type {\n",
       "        vertical-align: middle;\n",
       "    }\n",
       "\n",
       "    .dataframe tbody tr th {\n",
       "        vertical-align: top;\n",
       "    }\n",
       "\n",
       "    .dataframe thead th {\n",
       "        text-align: right;\n",
       "    }\n",
       "</style>\n",
       "<table border=\"1\" class=\"dataframe\">\n",
       "  <thead>\n",
       "    <tr style=\"text-align: right;\">\n",
       "      <th></th>\n",
       "      <th>count</th>\n",
       "      <th>mean</th>\n",
       "      <th>std</th>\n",
       "      <th>min</th>\n",
       "      <th>25%</th>\n",
       "      <th>50%</th>\n",
       "      <th>75%</th>\n",
       "      <th>max</th>\n",
       "    </tr>\n",
       "    <tr>\n",
       "      <th>title</th>\n",
       "      <th></th>\n",
       "      <th></th>\n",
       "      <th></th>\n",
       "      <th></th>\n",
       "      <th></th>\n",
       "      <th></th>\n",
       "      <th></th>\n",
       "      <th></th>\n",
       "    </tr>\n",
       "  </thead>\n",
       "  <tbody>\n",
       "    <tr>\n",
       "      <th>'Til There Was You (1997)</th>\n",
       "      <td>9.0</td>\n",
       "      <td>2.333333</td>\n",
       "      <td>1.000000</td>\n",
       "      <td>1.0</td>\n",
       "      <td>2.00</td>\n",
       "      <td>2.0</td>\n",
       "      <td>3.0</td>\n",
       "      <td>4.0</td>\n",
       "    </tr>\n",
       "    <tr>\n",
       "      <th>1-900 (1994)</th>\n",
       "      <td>5.0</td>\n",
       "      <td>2.600000</td>\n",
       "      <td>1.516575</td>\n",
       "      <td>1.0</td>\n",
       "      <td>1.00</td>\n",
       "      <td>3.0</td>\n",
       "      <td>4.0</td>\n",
       "      <td>4.0</td>\n",
       "    </tr>\n",
       "    <tr>\n",
       "      <th>101 Dalmatians (1996)</th>\n",
       "      <td>109.0</td>\n",
       "      <td>2.908257</td>\n",
       "      <td>1.076184</td>\n",
       "      <td>1.0</td>\n",
       "      <td>2.00</td>\n",
       "      <td>3.0</td>\n",
       "      <td>4.0</td>\n",
       "      <td>5.0</td>\n",
       "    </tr>\n",
       "    <tr>\n",
       "      <th>12 Angry Men (1957)</th>\n",
       "      <td>125.0</td>\n",
       "      <td>4.344000</td>\n",
       "      <td>0.719588</td>\n",
       "      <td>2.0</td>\n",
       "      <td>4.00</td>\n",
       "      <td>4.0</td>\n",
       "      <td>5.0</td>\n",
       "      <td>5.0</td>\n",
       "    </tr>\n",
       "    <tr>\n",
       "      <th>187 (1997)</th>\n",
       "      <td>41.0</td>\n",
       "      <td>3.024390</td>\n",
       "      <td>1.172344</td>\n",
       "      <td>1.0</td>\n",
       "      <td>2.00</td>\n",
       "      <td>3.0</td>\n",
       "      <td>4.0</td>\n",
       "      <td>5.0</td>\n",
       "    </tr>\n",
       "    <tr>\n",
       "      <th>...</th>\n",
       "      <td>...</td>\n",
       "      <td>...</td>\n",
       "      <td>...</td>\n",
       "      <td>...</td>\n",
       "      <td>...</td>\n",
       "      <td>...</td>\n",
       "      <td>...</td>\n",
       "      <td>...</td>\n",
       "    </tr>\n",
       "    <tr>\n",
       "      <th>Young Guns II (1990)</th>\n",
       "      <td>44.0</td>\n",
       "      <td>2.772727</td>\n",
       "      <td>1.008421</td>\n",
       "      <td>1.0</td>\n",
       "      <td>2.00</td>\n",
       "      <td>3.0</td>\n",
       "      <td>3.0</td>\n",
       "      <td>5.0</td>\n",
       "    </tr>\n",
       "    <tr>\n",
       "      <th>Young Poisoner's Handbook, The (1995)</th>\n",
       "      <td>41.0</td>\n",
       "      <td>3.341463</td>\n",
       "      <td>1.237129</td>\n",
       "      <td>1.0</td>\n",
       "      <td>3.00</td>\n",
       "      <td>4.0</td>\n",
       "      <td>4.0</td>\n",
       "      <td>5.0</td>\n",
       "    </tr>\n",
       "    <tr>\n",
       "      <th>Zeus and Roxanne (1997)</th>\n",
       "      <td>6.0</td>\n",
       "      <td>2.166667</td>\n",
       "      <td>0.983192</td>\n",
       "      <td>1.0</td>\n",
       "      <td>1.25</td>\n",
       "      <td>2.5</td>\n",
       "      <td>3.0</td>\n",
       "      <td>3.0</td>\n",
       "    </tr>\n",
       "    <tr>\n",
       "      <th>unknown</th>\n",
       "      <td>9.0</td>\n",
       "      <td>3.444444</td>\n",
       "      <td>1.130388</td>\n",
       "      <td>1.0</td>\n",
       "      <td>3.00</td>\n",
       "      <td>4.0</td>\n",
       "      <td>4.0</td>\n",
       "      <td>5.0</td>\n",
       "    </tr>\n",
       "    <tr>\n",
       "      <th>Á köldum klaka (Cold Fever) (1994)</th>\n",
       "      <td>1.0</td>\n",
       "      <td>3.000000</td>\n",
       "      <td>NaN</td>\n",
       "      <td>3.0</td>\n",
       "      <td>3.00</td>\n",
       "      <td>3.0</td>\n",
       "      <td>3.0</td>\n",
       "      <td>3.0</td>\n",
       "    </tr>\n",
       "  </tbody>\n",
       "</table>\n",
       "<p>1664 rows × 8 columns</p>\n",
       "</div>"
      ],
      "text/plain": [
       "                                       count      mean       std  min   25%  \\\n",
       "title                                                                         \n",
       "'Til There Was You (1997)                9.0  2.333333  1.000000  1.0  2.00   \n",
       "1-900 (1994)                             5.0  2.600000  1.516575  1.0  1.00   \n",
       "101 Dalmatians (1996)                  109.0  2.908257  1.076184  1.0  2.00   \n",
       "12 Angry Men (1957)                    125.0  4.344000  0.719588  2.0  4.00   \n",
       "187 (1997)                              41.0  3.024390  1.172344  1.0  2.00   \n",
       "...                                      ...       ...       ...  ...   ...   \n",
       "Young Guns II (1990)                    44.0  2.772727  1.008421  1.0  2.00   \n",
       "Young Poisoner's Handbook, The (1995)   41.0  3.341463  1.237129  1.0  3.00   \n",
       "Zeus and Roxanne (1997)                  6.0  2.166667  0.983192  1.0  1.25   \n",
       "unknown                                  9.0  3.444444  1.130388  1.0  3.00   \n",
       "Á köldum klaka (Cold Fever) (1994)       1.0  3.000000       NaN  3.0  3.00   \n",
       "\n",
       "                                       50%  75%  max  \n",
       "title                                                 \n",
       "'Til There Was You (1997)              2.0  3.0  4.0  \n",
       "1-900 (1994)                           3.0  4.0  4.0  \n",
       "101 Dalmatians (1996)                  3.0  4.0  5.0  \n",
       "12 Angry Men (1957)                    4.0  5.0  5.0  \n",
       "187 (1997)                             3.0  4.0  5.0  \n",
       "...                                    ...  ...  ...  \n",
       "Young Guns II (1990)                   3.0  3.0  5.0  \n",
       "Young Poisoner's Handbook, The (1995)  4.0  4.0  5.0  \n",
       "Zeus and Roxanne (1997)                2.5  3.0  3.0  \n",
       "unknown                                4.0  4.0  5.0  \n",
       "Á köldum klaka (Cold Fever) (1994)     3.0  3.0  3.0  \n",
       "\n",
       "[1664 rows x 8 columns]"
      ]
     },
     "execution_count": 14,
     "metadata": {},
     "output_type": "execute_result"
    }
   ],
   "source": [
    "# 2. Data exploration\n",
    "ratings.groupby('title')['rating'].describe()"
   ]
  },
  {
   "cell_type": "code",
   "execution_count": 15,
   "id": "4cd58b91",
   "metadata": {
    "execution": {
     "iopub.execute_input": "2021-12-30T02:52:46.748690Z",
     "iopub.status.busy": "2021-12-30T02:52:46.747583Z",
     "iopub.status.idle": "2021-12-30T02:52:49.367681Z",
     "shell.execute_reply": "2021-12-30T02:52:49.367063Z",
     "shell.execute_reply.started": "2021-12-30T02:51:59.531615Z"
    },
    "papermill": {
     "duration": 2.681772,
     "end_time": "2021-12-30T02:52:49.367871",
     "exception": false,
     "start_time": "2021-12-30T02:52:46.686099",
     "status": "completed"
    },
    "tags": []
   },
   "outputs": [],
   "source": [
    "ratings_count = ratings.groupby('title')['rating'].describe()['count']"
   ]
  },
  {
   "cell_type": "code",
   "execution_count": 16,
   "id": "f8076c6b",
   "metadata": {
    "execution": {
     "iopub.execute_input": "2021-12-30T02:52:49.464744Z",
     "iopub.status.busy": "2021-12-30T02:52:49.464044Z",
     "iopub.status.idle": "2021-12-30T02:52:49.471247Z",
     "shell.execute_reply": "2021-12-30T02:52:49.471916Z",
     "shell.execute_reply.started": "2021-12-30T02:52:01.898659Z"
    },
    "papermill": {
     "duration": 0.057039,
     "end_time": "2021-12-30T02:52:49.472104",
     "exception": false,
     "start_time": "2021-12-30T02:52:49.415065",
     "status": "completed"
    },
    "scrolled": true,
    "tags": []
   },
   "outputs": [
    {
     "data": {
      "text/plain": [
       "title\n",
       "'Til There Was You (1997)                  9.0\n",
       "1-900 (1994)                               5.0\n",
       "101 Dalmatians (1996)                    109.0\n",
       "12 Angry Men (1957)                      125.0\n",
       "187 (1997)                                41.0\n",
       "                                         ...  \n",
       "Young Guns II (1990)                      44.0\n",
       "Young Poisoner's Handbook, The (1995)     41.0\n",
       "Zeus and Roxanne (1997)                    6.0\n",
       "unknown                                    9.0\n",
       "Á köldum klaka (Cold Fever) (1994)         1.0\n",
       "Name: count, Length: 1664, dtype: float64"
      ]
     },
     "execution_count": 16,
     "metadata": {},
     "output_type": "execute_result"
    }
   ],
   "source": [
    "ratings_count"
   ]
  },
  {
   "cell_type": "code",
   "execution_count": 17,
   "id": "45aae90d",
   "metadata": {
    "execution": {
     "iopub.execute_input": "2021-12-30T02:52:49.567710Z",
     "iopub.status.busy": "2021-12-30T02:52:49.567035Z",
     "iopub.status.idle": "2021-12-30T02:52:52.025227Z",
     "shell.execute_reply": "2021-12-30T02:52:52.024508Z",
     "shell.execute_reply.started": "2021-12-30T02:52:01.908391Z"
    },
    "papermill": {
     "duration": 2.507195,
     "end_time": "2021-12-30T02:52:52.025418",
     "exception": false,
     "start_time": "2021-12-30T02:52:49.518223",
     "status": "completed"
    },
    "scrolled": true,
    "tags": []
   },
   "outputs": [],
   "source": [
    "ratings_avg = ratings.groupby('title')['rating'].describe()['mean']"
   ]
  },
  {
   "cell_type": "code",
   "execution_count": 18,
   "id": "9e19c3a8",
   "metadata": {
    "execution": {
     "iopub.execute_input": "2021-12-30T02:52:52.125953Z",
     "iopub.status.busy": "2021-12-30T02:52:52.125247Z",
     "iopub.status.idle": "2021-12-30T02:52:52.131154Z",
     "shell.execute_reply": "2021-12-30T02:52:52.131766Z",
     "shell.execute_reply.started": "2021-12-30T02:52:04.126186Z"
    },
    "papermill": {
     "duration": 0.059807,
     "end_time": "2021-12-30T02:52:52.131999",
     "exception": false,
     "start_time": "2021-12-30T02:52:52.072192",
     "status": "completed"
    },
    "tags": []
   },
   "outputs": [
    {
     "data": {
      "text/plain": [
       "title\n",
       "'Til There Was You (1997)                2.333333\n",
       "1-900 (1994)                             2.600000\n",
       "101 Dalmatians (1996)                    2.908257\n",
       "12 Angry Men (1957)                      4.344000\n",
       "187 (1997)                               3.024390\n",
       "                                           ...   \n",
       "Young Guns II (1990)                     2.772727\n",
       "Young Poisoner's Handbook, The (1995)    3.341463\n",
       "Zeus and Roxanne (1997)                  2.166667\n",
       "unknown                                  3.444444\n",
       "Á köldum klaka (Cold Fever) (1994)       3.000000\n",
       "Name: mean, Length: 1664, dtype: float64"
      ]
     },
     "execution_count": 18,
     "metadata": {},
     "output_type": "execute_result"
    }
   ],
   "source": [
    "ratings_avg"
   ]
  },
  {
   "cell_type": "code",
   "execution_count": 19,
   "id": "812553c5",
   "metadata": {
    "execution": {
     "iopub.execute_input": "2021-12-30T02:52:52.326135Z",
     "iopub.status.busy": "2021-12-30T02:52:52.325068Z",
     "iopub.status.idle": "2021-12-30T02:52:52.331271Z",
     "shell.execute_reply": "2021-12-30T02:52:52.331855Z",
     "shell.execute_reply.started": "2021-12-30T02:52:04.134486Z"
    },
    "papermill": {
     "duration": 0.057289,
     "end_time": "2021-12-30T02:52:52.332060",
     "exception": false,
     "start_time": "2021-12-30T02:52:52.274771",
     "status": "completed"
    },
    "tags": []
   },
   "outputs": [],
   "source": [
    "#### Create a dataframe having each movies average star rating along with number of ratings given\n",
    "avg_ratings = pd.concat([ratings_count, ratings_avg], axis = 1)"
   ]
  },
  {
   "cell_type": "code",
   "execution_count": 20,
   "id": "39e5a27b",
   "metadata": {
    "execution": {
     "iopub.execute_input": "2021-12-30T02:52:52.431557Z",
     "iopub.status.busy": "2021-12-30T02:52:52.430525Z",
     "iopub.status.idle": "2021-12-30T02:52:52.435811Z",
     "shell.execute_reply": "2021-12-30T02:52:52.436465Z",
     "shell.execute_reply.started": "2021-12-30T02:52:04.149262Z"
    },
    "papermill": {
     "duration": 0.05765,
     "end_time": "2021-12-30T02:52:52.436667",
     "exception": false,
     "start_time": "2021-12-30T02:52:52.379017",
     "status": "completed"
    },
    "tags": []
   },
   "outputs": [],
   "source": [
    "avg_ratings.rename(columns={'count': 'total_reviews', 'mean': 'average_rating'}, inplace = True)"
   ]
  },
  {
   "cell_type": "code",
   "execution_count": 21,
   "id": "53e7140d",
   "metadata": {
    "execution": {
     "iopub.execute_input": "2021-12-30T02:52:52.535653Z",
     "iopub.status.busy": "2021-12-30T02:52:52.534622Z",
     "iopub.status.idle": "2021-12-30T02:52:52.549722Z",
     "shell.execute_reply": "2021-12-30T02:52:52.550349Z",
     "shell.execute_reply.started": "2021-12-30T02:52:04.160131Z"
    },
    "papermill": {
     "duration": 0.066969,
     "end_time": "2021-12-30T02:52:52.550561",
     "exception": false,
     "start_time": "2021-12-30T02:52:52.483592",
     "status": "completed"
    },
    "tags": []
   },
   "outputs": [
    {
     "data": {
      "text/html": [
       "<div>\n",
       "<style scoped>\n",
       "    .dataframe tbody tr th:only-of-type {\n",
       "        vertical-align: middle;\n",
       "    }\n",
       "\n",
       "    .dataframe tbody tr th {\n",
       "        vertical-align: top;\n",
       "    }\n",
       "\n",
       "    .dataframe thead th {\n",
       "        text-align: right;\n",
       "    }\n",
       "</style>\n",
       "<table border=\"1\" class=\"dataframe\">\n",
       "  <thead>\n",
       "    <tr style=\"text-align: right;\">\n",
       "      <th></th>\n",
       "      <th>title</th>\n",
       "      <th>total_reviews</th>\n",
       "      <th>average_rating</th>\n",
       "    </tr>\n",
       "  </thead>\n",
       "  <tbody>\n",
       "    <tr>\n",
       "      <th>0</th>\n",
       "      <td>'Til There Was You (1997)</td>\n",
       "      <td>9.0</td>\n",
       "      <td>2.333333</td>\n",
       "    </tr>\n",
       "    <tr>\n",
       "      <th>1</th>\n",
       "      <td>1-900 (1994)</td>\n",
       "      <td>5.0</td>\n",
       "      <td>2.600000</td>\n",
       "    </tr>\n",
       "    <tr>\n",
       "      <th>2</th>\n",
       "      <td>101 Dalmatians (1996)</td>\n",
       "      <td>109.0</td>\n",
       "      <td>2.908257</td>\n",
       "    </tr>\n",
       "    <tr>\n",
       "      <th>3</th>\n",
       "      <td>12 Angry Men (1957)</td>\n",
       "      <td>125.0</td>\n",
       "      <td>4.344000</td>\n",
       "    </tr>\n",
       "    <tr>\n",
       "      <th>4</th>\n",
       "      <td>187 (1997)</td>\n",
       "      <td>41.0</td>\n",
       "      <td>3.024390</td>\n",
       "    </tr>\n",
       "    <tr>\n",
       "      <th>...</th>\n",
       "      <td>...</td>\n",
       "      <td>...</td>\n",
       "      <td>...</td>\n",
       "    </tr>\n",
       "    <tr>\n",
       "      <th>1659</th>\n",
       "      <td>Young Guns II (1990)</td>\n",
       "      <td>44.0</td>\n",
       "      <td>2.772727</td>\n",
       "    </tr>\n",
       "    <tr>\n",
       "      <th>1660</th>\n",
       "      <td>Young Poisoner's Handbook, The (1995)</td>\n",
       "      <td>41.0</td>\n",
       "      <td>3.341463</td>\n",
       "    </tr>\n",
       "    <tr>\n",
       "      <th>1661</th>\n",
       "      <td>Zeus and Roxanne (1997)</td>\n",
       "      <td>6.0</td>\n",
       "      <td>2.166667</td>\n",
       "    </tr>\n",
       "    <tr>\n",
       "      <th>1662</th>\n",
       "      <td>unknown</td>\n",
       "      <td>9.0</td>\n",
       "      <td>3.444444</td>\n",
       "    </tr>\n",
       "    <tr>\n",
       "      <th>1663</th>\n",
       "      <td>Á köldum klaka (Cold Fever) (1994)</td>\n",
       "      <td>1.0</td>\n",
       "      <td>3.000000</td>\n",
       "    </tr>\n",
       "  </tbody>\n",
       "</table>\n",
       "<p>1664 rows × 3 columns</p>\n",
       "</div>"
      ],
      "text/plain": [
       "                                      title  total_reviews  average_rating\n",
       "0                 'Til There Was You (1997)            9.0        2.333333\n",
       "1                              1-900 (1994)            5.0        2.600000\n",
       "2                     101 Dalmatians (1996)          109.0        2.908257\n",
       "3                       12 Angry Men (1957)          125.0        4.344000\n",
       "4                                187 (1997)           41.0        3.024390\n",
       "...                                     ...            ...             ...\n",
       "1659                   Young Guns II (1990)           44.0        2.772727\n",
       "1660  Young Poisoner's Handbook, The (1995)           41.0        3.341463\n",
       "1661                Zeus and Roxanne (1997)            6.0        2.166667\n",
       "1662                                unknown            9.0        3.444444\n",
       "1663     Á köldum klaka (Cold Fever) (1994)            1.0        3.000000\n",
       "\n",
       "[1664 rows x 3 columns]"
      ]
     },
     "execution_count": 21,
     "metadata": {},
     "output_type": "execute_result"
    }
   ],
   "source": [
    "avg_ratings.reset_index()"
   ]
  },
  {
   "cell_type": "code",
   "execution_count": 22,
   "id": "17b222bc",
   "metadata": {
    "execution": {
     "iopub.execute_input": "2021-12-30T02:52:52.649538Z",
     "iopub.status.busy": "2021-12-30T02:52:52.648807Z",
     "iopub.status.idle": "2021-12-30T02:52:53.120805Z",
     "shell.execute_reply": "2021-12-30T02:52:53.120111Z",
     "shell.execute_reply.started": "2021-12-30T02:52:04.179740Z"
    },
    "papermill": {
     "duration": 0.522539,
     "end_time": "2021-12-30T02:52:53.120961",
     "exception": false,
     "start_time": "2021-12-30T02:52:52.598422",
     "status": "completed"
    },
    "tags": []
   },
   "outputs": [
    {
     "data": {
      "text/plain": [
       "<Axes: ylabel='Frequency'>"
      ]
     },
     "execution_count": 22,
     "metadata": {},
     "output_type": "execute_result"
    },
    {
     "data": {
      "image/png": "[encoded data removed]",
      "text/plain": [
       "<Figure size 640x480 with 1 Axes>"
      ]
     },
     "metadata": {},
     "output_type": "display_data"
    }
   ],
   "source": [
    "avg_ratings['average_rating'].plot(bins=100, kind='hist') "
   ]
  },
  {
   "cell_type": "code",
   "execution_count": 23,
   "id": "f9cc202e",
   "metadata": {
    "execution": {
     "iopub.execute_input": "2021-12-30T02:52:53.226549Z",
     "iopub.status.busy": "2021-12-30T02:52:53.223143Z",
     "iopub.status.idle": "2021-12-30T02:52:53.613383Z",
     "shell.execute_reply": "2021-12-30T02:52:53.612672Z",
     "shell.execute_reply.started": "2021-12-30T02:52:04.557488Z"
    },
    "papermill": {
     "duration": 0.443675,
     "end_time": "2021-12-30T02:52:53.613545",
     "exception": false,
     "start_time": "2021-12-30T02:52:53.169870",
     "status": "completed"
    },
    "tags": []
   },
   "outputs": [
    {
     "data": {
      "text/plain": [
       "<Axes: ylabel='Frequency'>"
      ]
     },
     "execution_count": 23,
     "metadata": {},
     "output_type": "execute_result"
    },
    {
     "data": {
      "image/png": "[encoded data removed]",
      "text/plain": [
       "<Figure size 640x480 with 1 Axes>"
      ]
     },
     "metadata": {},
     "output_type": "display_data"
    }
   ],
   "source": [
    "avg_ratings['total_reviews'].plot(bins=100, kind='hist', color = 'r') "
   ]
  },
  {
   "cell_type": "code",
   "execution_count": 24,
   "id": "2410cb39",
   "metadata": {
    "execution": {
     "iopub.execute_input": "2021-12-30T02:52:53.730396Z",
     "iopub.status.busy": "2021-12-30T02:52:53.729599Z",
     "iopub.status.idle": "2021-12-30T02:52:53.732666Z",
     "shell.execute_reply": "2021-12-30T02:52:53.733176Z",
     "shell.execute_reply.started": "2021-12-30T02:52:04.872490Z"
    },
    "papermill": {
     "duration": 0.069898,
     "end_time": "2021-12-30T02:52:53.733398",
     "exception": false,
     "start_time": "2021-12-30T02:52:53.663500",
     "status": "completed"
    },
    "tags": []
   },
   "outputs": [
    {
     "data": {
      "text/html": [
       "<div>\n",
       "<style scoped>\n",
       "    .dataframe tbody tr th:only-of-type {\n",
       "        vertical-align: middle;\n",
       "    }\n",
       "\n",
       "    .dataframe tbody tr th {\n",
       "        vertical-align: top;\n",
       "    }\n",
       "\n",
       "    .dataframe thead th {\n",
       "        text-align: right;\n",
       "    }\n",
       "</style>\n",
       "<table border=\"1\" class=\"dataframe\">\n",
       "  <thead>\n",
       "    <tr style=\"text-align: right;\">\n",
       "      <th></th>\n",
       "      <th>total_reviews</th>\n",
       "      <th>average_rating</th>\n",
       "    </tr>\n",
       "    <tr>\n",
       "      <th>title</th>\n",
       "      <th></th>\n",
       "      <th></th>\n",
       "    </tr>\n",
       "  </thead>\n",
       "  <tbody>\n",
       "    <tr>\n",
       "      <th>Aiqing wansui (1994)</th>\n",
       "      <td>1.0</td>\n",
       "      <td>5.0</td>\n",
       "    </tr>\n",
       "    <tr>\n",
       "      <th>Entertaining Angels: The Dorothy Day Story (1996)</th>\n",
       "      <td>1.0</td>\n",
       "      <td>5.0</td>\n",
       "    </tr>\n",
       "    <tr>\n",
       "      <th>Great Day in Harlem, A (1994)</th>\n",
       "      <td>1.0</td>\n",
       "      <td>5.0</td>\n",
       "    </tr>\n",
       "    <tr>\n",
       "      <th>Marlene Dietrich: Shadow and Light (1996)</th>\n",
       "      <td>1.0</td>\n",
       "      <td>5.0</td>\n",
       "    </tr>\n",
       "    <tr>\n",
       "      <th>Prefontaine (1997)</th>\n",
       "      <td>3.0</td>\n",
       "      <td>5.0</td>\n",
       "    </tr>\n",
       "    <tr>\n",
       "      <th>Saint of Fort Washington, The (1993)</th>\n",
       "      <td>2.0</td>\n",
       "      <td>5.0</td>\n",
       "    </tr>\n",
       "    <tr>\n",
       "      <th>Santa with Muscles (1996)</th>\n",
       "      <td>2.0</td>\n",
       "      <td>5.0</td>\n",
       "    </tr>\n",
       "    <tr>\n",
       "      <th>Someone Else's America (1995)</th>\n",
       "      <td>1.0</td>\n",
       "      <td>5.0</td>\n",
       "    </tr>\n",
       "    <tr>\n",
       "      <th>Star Kid (1997)</th>\n",
       "      <td>3.0</td>\n",
       "      <td>5.0</td>\n",
       "    </tr>\n",
       "    <tr>\n",
       "      <th>They Made Me a Criminal (1939)</th>\n",
       "      <td>1.0</td>\n",
       "      <td>5.0</td>\n",
       "    </tr>\n",
       "  </tbody>\n",
       "</table>\n",
       "</div>"
      ],
      "text/plain": [
       "                                                   total_reviews  \\\n",
       "title                                                              \n",
       "Aiqing wansui (1994)                                         1.0   \n",
       "Entertaining Angels: The Dorothy Day Story (1996)            1.0   \n",
       "Great Day in Harlem, A (1994)                                1.0   \n",
       "Marlene Dietrich: Shadow and Light (1996)                    1.0   \n",
       "Prefontaine (1997)                                           3.0   \n",
       "Saint of Fort Washington, The (1993)                         2.0   \n",
       "Santa with Muscles (1996)                                    2.0   \n",
       "Someone Else's America (1995)                                1.0   \n",
       "Star Kid (1997)                                              3.0   \n",
       "They Made Me a Criminal (1939)                               1.0   \n",
       "\n",
       "                                                   average_rating  \n",
       "title                                                              \n",
       "Aiqing wansui (1994)                                          5.0  \n",
       "Entertaining Angels: The Dorothy Day Story (1996)             5.0  \n",
       "Great Day in Harlem, A (1994)                                 5.0  \n",
       "Marlene Dietrich: Shadow and Light (1996)                     5.0  \n",
       "Prefontaine (1997)                                            5.0  \n",
       "Saint of Fort Washington, The (1993)                          5.0  \n",
       "Santa with Muscles (1996)                                     5.0  \n",
       "Someone Else's America (1995)                                 5.0  \n",
       "Star Kid (1997)                                               5.0  \n",
       "They Made Me a Criminal (1939)                                5.0  "
      ]
     },
     "execution_count": 24,
     "metadata": {},
     "output_type": "execute_result"
    }
   ],
   "source": [
    "#list the highest rated movies\n",
    "avg_ratings[avg_ratings['average_rating'] == 5]"
   ]
  },
  {
   "cell_type": "code",
   "execution_count": 25,
   "id": "cb6bc46d",
   "metadata": {
    "execution": {
     "iopub.execute_input": "2021-12-30T02:52:53.938675Z",
     "iopub.status.busy": "2021-12-30T02:52:53.937713Z",
     "iopub.status.idle": "2021-12-30T02:52:53.950390Z",
     "shell.execute_reply": "2021-12-30T02:52:53.951005Z",
     "shell.execute_reply.started": "2021-12-30T02:52:04.885925Z"
    },
    "papermill": {
     "duration": 0.066984,
     "end_time": "2021-12-30T02:52:53.951203",
     "exception": false,
     "start_time": "2021-12-30T02:52:53.884219",
     "status": "completed"
    },
    "tags": []
   },
   "outputs": [
    {
     "data": {
      "text/html": [
       "<div>\n",
       "<style scoped>\n",
       "    .dataframe tbody tr th:only-of-type {\n",
       "        vertical-align: middle;\n",
       "    }\n",
       "\n",
       "    .dataframe tbody tr th {\n",
       "        vertical-align: top;\n",
       "    }\n",
       "\n",
       "    .dataframe thead th {\n",
       "        text-align: right;\n",
       "    }\n",
       "</style>\n",
       "<table border=\"1\" class=\"dataframe\">\n",
       "  <thead>\n",
       "    <tr style=\"text-align: right;\">\n",
       "      <th></th>\n",
       "      <th>total_reviews</th>\n",
       "      <th>average_rating</th>\n",
       "    </tr>\n",
       "    <tr>\n",
       "      <th>title</th>\n",
       "      <th></th>\n",
       "      <th></th>\n",
       "    </tr>\n",
       "  </thead>\n",
       "  <tbody>\n",
       "    <tr>\n",
       "      <th>Star Wars (1977)</th>\n",
       "      <td>584.0</td>\n",
       "      <td>4.359589</td>\n",
       "    </tr>\n",
       "    <tr>\n",
       "      <th>Contact (1997)</th>\n",
       "      <td>509.0</td>\n",
       "      <td>3.803536</td>\n",
       "    </tr>\n",
       "    <tr>\n",
       "      <th>Fargo (1996)</th>\n",
       "      <td>508.0</td>\n",
       "      <td>4.155512</td>\n",
       "    </tr>\n",
       "    <tr>\n",
       "      <th>Return of the Jedi (1983)</th>\n",
       "      <td>507.0</td>\n",
       "      <td>4.007890</td>\n",
       "    </tr>\n",
       "    <tr>\n",
       "      <th>Liar Liar (1997)</th>\n",
       "      <td>485.0</td>\n",
       "      <td>3.156701</td>\n",
       "    </tr>\n",
       "    <tr>\n",
       "      <th>...</th>\n",
       "      <td>...</td>\n",
       "      <td>...</td>\n",
       "    </tr>\n",
       "    <tr>\n",
       "      <th>Aladdin (1992)</th>\n",
       "      <td>219.0</td>\n",
       "      <td>3.812785</td>\n",
       "    </tr>\n",
       "    <tr>\n",
       "      <th>Babe (1995)</th>\n",
       "      <td>219.0</td>\n",
       "      <td>3.995434</td>\n",
       "    </tr>\n",
       "    <tr>\n",
       "      <th>Volcano (1997)</th>\n",
       "      <td>219.0</td>\n",
       "      <td>2.808219</td>\n",
       "    </tr>\n",
       "    <tr>\n",
       "      <th>To Kill a Mockingbird (1962)</th>\n",
       "      <td>219.0</td>\n",
       "      <td>4.292237</td>\n",
       "    </tr>\n",
       "    <tr>\n",
       "      <th>Murder at 1600 (1997)</th>\n",
       "      <td>218.0</td>\n",
       "      <td>3.087156</td>\n",
       "    </tr>\n",
       "  </tbody>\n",
       "</table>\n",
       "<p>100 rows × 2 columns</p>\n",
       "</div>"
      ],
      "text/plain": [
       "                              total_reviews  average_rating\n",
       "title                                                      \n",
       "Star Wars (1977)                      584.0        4.359589\n",
       "Contact (1997)                        509.0        3.803536\n",
       "Fargo (1996)                          508.0        4.155512\n",
       "Return of the Jedi (1983)             507.0        4.007890\n",
       "Liar Liar (1997)                      485.0        3.156701\n",
       "...                                     ...             ...\n",
       "Aladdin (1992)                        219.0        3.812785\n",
       "Babe (1995)                           219.0        3.995434\n",
       "Volcano (1997)                        219.0        2.808219\n",
       "To Kill a Mockingbird (1962)          219.0        4.292237\n",
       "Murder at 1600 (1997)                 218.0        3.087156\n",
       "\n",
       "[100 rows x 2 columns]"
      ]
     },
     "execution_count": 25,
     "metadata": {},
     "output_type": "execute_result"
    }
   ],
   "source": [
    "#list the movies that have most number of ratings recieved \n",
    "avg_ratings.sort_values('total_reviews', ascending = False).head(100)"
   ]
  }
 ],
 "metadata": {
  "kernelspec": {
   "display_name": "Python 3",
   "language": "python",
   "name": "python3"
  },
  "language_info": {
   "codemirror_mode": {
    "name": "ipython",
    "version": 3
   },
   "file_extension": ".py",
   "mimetype": "text/x-python",
   "name": "python",
   "nbconvert_exporter": "python",
   "pygments_lexer": "ipython3",
   "version": "3.11.5"
  },
  "papermill": {
   "default_parameters": {},
   "duration": 31.056257,
   "end_time": "2021-12-30T02:53:01.468937",
   "environment_variables": {},
   "exception": null,
   "input_path": "__notebook__.ipynb",
   "output_path": "__notebook__.ipynb",
   "parameters": {},
   "start_time": "2021-12-30T02:52:30.412680",
   "version": "2.3.3"
  }
 },
 "nbformat": 4,
 "nbformat_minor": 5
}
